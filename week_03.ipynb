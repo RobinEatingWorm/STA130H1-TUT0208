{
 "cells": [
  {
   "cell_type": "markdown",
   "id": "3349e125",
   "metadata": {},
   "source": [
    "# Demo"
   ]
  },
  {
   "cell_type": "code",
   "execution_count": null,
   "id": "2104cdca",
   "metadata": {},
   "outputs": [],
   "source": [
    "# Import statements\n",
    "import numpy as np\n",
    "import pandas as pd\n",
    "import plotly.express as px"
   ]
  },
  {
   "cell_type": "markdown",
   "id": "21382410",
   "metadata": {},
   "source": [
    "## 2."
   ]
  },
  {
   "cell_type": "markdown",
   "id": "2f973814",
   "metadata": {},
   "source": [
    "### 2.2."
   ]
  },
  {
   "cell_type": "code",
   "execution_count": null,
   "id": "0ac1b71f",
   "metadata": {},
   "outputs": [],
   "source": [
    "# A NumPy array containing ten 1's and one 1000\n",
    "data = np.array([1] * 10 + [1000])\n",
    "print(data)\n",
    "\n",
    "# Calculate the mean of the array (output: 91.81818181818181)\n",
    "print(np.mean(data))\n",
    "\n",
    "# Calculate the median of the array (output: 1.0)\n",
    "print(np.median(data))"
   ]
  },
  {
   "cell_type": "code",
   "execution_count": null,
   "id": "8f9a26df",
   "metadata": {},
   "outputs": [],
   "source": [
    "# A histogram of the values in the array\n",
    "fig = px.histogram(x=data)\n",
    "fig.show()"
   ]
  },
  {
   "cell_type": "code",
   "execution_count": null,
   "id": "db36887a",
   "metadata": {},
   "outputs": [],
   "source": [
    "# A box plot of the values in the array\n",
    "fig = px.box(x=data)\n",
    "fig.show()"
   ]
  },
  {
   "cell_type": "markdown",
   "id": "a0a437a2",
   "metadata": {},
   "source": [
    "### 2.3."
   ]
  },
  {
   "cell_type": "code",
   "execution_count": null,
   "id": "2622b0c8",
   "metadata": {},
   "outputs": [],
   "source": [
    "# A dataset of tips received at a restaurant\n",
    "tips = pd.read_csv('https://raw.githubusercontent.com/mwaskom/seaborn-data/master/tips.csv')\n",
    "tips"
   ]
  },
  {
   "cell_type": "code",
   "execution_count": null,
   "id": "230d53ff",
   "metadata": {},
   "outputs": [],
   "source": [
    "# A histogram of the tips data, showing that the distribution is right-skewed\n",
    "fig = px.histogram(tips, x='tip')\n",
    "fig.show()"
   ]
  },
  {
   "cell_type": "code",
   "execution_count": null,
   "id": "e040b239",
   "metadata": {},
   "outputs": [],
   "source": [
    "# A dataset of credit card fraud amounts\n",
    "fraud = pd.read_csv('https://raw.githubusercontent.com/nsethi31/Kaggle-Data-Credit-Card-Fraud-Detection/master/creditcard.csv')\n",
    "fraud"
   ]
  },
  {
   "cell_type": "code",
   "execution_count": null,
   "id": "ee07fdb4",
   "metadata": {},
   "outputs": [],
   "source": [
    "# A box plot of the fraud data, showing that the distribution contains many outliers above the upper fence\n",
    "fig = px.box(fraud, x='Amount')\n",
    "fig.show()"
   ]
  },
  {
   "cell_type": "code",
   "execution_count": null,
   "id": "cd709f5c",
   "metadata": {},
   "outputs": [],
   "source": [
    "# A histogram of the fraud data, again showing that the distribution contains many outliers\n",
    "fig = px.histogram(fraud, x='Amount')\n",
    "fig.show()"
   ]
  },
  {
   "cell_type": "code",
   "execution_count": null,
   "id": "515fec00",
   "metadata": {},
   "outputs": [],
   "source": [
    "# Data on waiting time between eruptions of Old Faithful (a geyser in Yellowstone National Park)\n",
    "old_faithful = pd.read_csv('https://gist.githubusercontent.com/hogwild/c2704a1ae38c0a36983bc13121050dac/raw/7fd577be21752939375d92cd3a808558106e903b/oldFaithfulGeyserDataset.csv')\n",
    "old_faithful"
   ]
  },
  {
   "cell_type": "code",
   "execution_count": null,
   "id": "bf06b9c8",
   "metadata": {},
   "outputs": [],
   "source": [
    "# A histogram of waiting times, showing that the distribution is bimodal\n",
    "fig = px.histogram(old_faithful, x='waiting')\n",
    "fig.show()"
   ]
  }
 ],
 "metadata": {
  "kernelspec": {
   "display_name": "Python 3 (ipykernel)",
   "language": "python",
   "name": "python3"
  },
  "language_info": {
   "codemirror_mode": {
    "name": "ipython",
    "version": 3
   },
   "file_extension": ".py",
   "mimetype": "text/x-python",
   "name": "python",
   "nbconvert_exporter": "python",
   "pygments_lexer": "ipython3",
   "version": "3.11.6"
  }
 },
 "nbformat": 4,
 "nbformat_minor": 5
}
