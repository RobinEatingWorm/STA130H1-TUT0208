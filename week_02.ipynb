{
 "cells": [
  {
   "cell_type": "markdown",
   "id": "39bd41d4",
   "metadata": {},
   "source": [
    "# Demo"
   ]
  },
  {
   "cell_type": "markdown",
   "id": "cd610828",
   "metadata": {},
   "source": [
    "## 1."
   ]
  },
  {
   "cell_type": "code",
   "execution_count": null,
   "id": "becb21d4",
   "metadata": {
    "scrolled": true
   },
   "outputs": [],
   "source": [
    "# A line of code that prints a string\n",
    "print('Hello, world!')"
   ]
  },
  {
   "cell_type": "code",
   "execution_count": null,
   "id": "bf9fe06e",
   "metadata": {},
   "outputs": [],
   "source": [
    "# You can use single or double quotations\n",
    "print(\"Hello, world!\")"
   ]
  },
  {
   "cell_type": "code",
   "execution_count": null,
   "id": "1c70527b",
   "metadata": {
    "scrolled": true
   },
   "outputs": [],
   "source": [
    "# Jupyter Notebook automatically prints the last line in a code cell\n",
    "\"Hello, world!\""
   ]
  },
  {
   "cell_type": "code",
   "execution_count": null,
   "id": "817945be",
   "metadata": {
    "scrolled": true
   },
   "outputs": [],
   "source": [
    "# Binary arithmetic operators\n",
    "\n",
    "# Addition (output: 10)\n",
    "print(7 + 3)\n",
    "\n",
    "# Subtraction (output: 4)\n",
    "print(7 - 3)\n",
    "\n",
    "# Multiplication (output: 21)\n",
    "print(7 * 3)\n",
    "\n",
    "# Division (output: 2.3333333333333335)\n",
    "print(7 / 3)\n",
    "\n",
    "# Floor division (round result down to nearest integer) (output: 2)\n",
    "print(7 // 3)\n",
    "\n",
    "# Modulo (remainder) (output: 1)\n",
    "print(7 % 3)\n",
    "\n",
    "# Power (output: 343)\n",
    "print(7 ** 3)"
   ]
  },
  {
   "cell_type": "code",
   "execution_count": null,
   "id": "2c7c01bd",
   "metadata": {
    "scrolled": true
   },
   "outputs": [],
   "source": [
    "# Comparison operators\n",
    "\n",
    "# Less than (output: False)\n",
    "print(7 < 3)\n",
    "\n",
    "# Greater than (output: True)\n",
    "print(7 > 3)\n",
    "\n",
    "# Equal to (output: False)\n",
    "print(7 == 3)\n",
    "\n",
    "# Less than or equal to (output: False)\n",
    "print(7 <= 3)\n",
    "\n",
    "# Greater than or equal to (output: True)\n",
    "print(7 >= 3)\n",
    "\n",
    "# Not equal to (output: True)\n",
    "print(7 != 3)"
   ]
  },
  {
   "cell_type": "code",
   "execution_count": null,
   "id": "51833f0a",
   "metadata": {},
   "outputs": [],
   "source": [
    "# Variable assignment\n",
    "a = 2.5\n",
    "b = 'apple'\n",
    "print(a)\n",
    "print(b)"
   ]
  },
  {
   "cell_type": "code",
   "execution_count": null,
   "id": "8ace9254",
   "metadata": {},
   "outputs": [],
   "source": [
    "# Boolean types\n",
    "a = True\n",
    "b = False\n",
    "\n",
    "# Boolean operators\n",
    "\n",
    "# Returns True if both arguments are true (output: False)\n",
    "print(a and b)\n",
    "\n",
    "# Returns True if at least one argument is true (output: True)\n",
    "print(a or b)\n",
    "\n",
    "# Negates the following Boolean (output: False)\n",
    "print(not a)"
   ]
  },
  {
   "cell_type": "code",
   "execution_count": null,
   "id": "0d7be8f5",
   "metadata": {},
   "outputs": [],
   "source": [
    "# None usually indicates a null value or no value\n",
    "None"
   ]
  },
  {
   "cell_type": "code",
   "execution_count": null,
   "id": "f985bcc7",
   "metadata": {},
   "outputs": [],
   "source": [
    "# Defining a function\n",
    "def f(x, y):\n",
    "    return (x + y) ** 2\n",
    "\n",
    "# Calling a function (output: 100)\n",
    "a = 7\n",
    "b = 3\n",
    "f(a, b)"
   ]
  },
  {
   "cell_type": "markdown",
   "id": "cfa79130",
   "metadata": {},
   "source": [
    "### 1.1."
   ]
  },
  {
   "cell_type": "code",
   "execution_count": null,
   "id": "67c98301",
   "metadata": {
    "scrolled": true
   },
   "outputs": [],
   "source": [
    "# Creating a list\n",
    "l = [20, 16, 43, 12]\n",
    "print(l)"
   ]
  },
  {
   "cell_type": "code",
   "execution_count": null,
   "id": "4b9c6f23",
   "metadata": {},
   "outputs": [],
   "source": [
    "# Lists can contain any data type, including other lists\n",
    "l = [2.5, 'apple', True, False, [20, 16, 43, 12]]\n",
    "print(l)"
   ]
  },
  {
   "cell_type": "code",
   "execution_count": null,
   "id": "8af96dbc",
   "metadata": {},
   "outputs": [],
   "source": [
    "l = [20, 16, 43, 12]\n",
    "\n",
    "# Getting the length of a list (output: 4)\n",
    "print(len(l))\n",
    "\n",
    "# Checking if an item is in a list (output: True)\n",
    "print(16 in l)"
   ]
  },
  {
   "cell_type": "code",
   "execution_count": null,
   "id": "50fdc02b",
   "metadata": {},
   "outputs": [],
   "source": [
    "l = [20, 16, 43, 12]\n",
    "\n",
    "# Indexing a single element of a list (output: 43 20)\n",
    "print(l[2], l[0])\n",
    "\n",
    "# Indexing a range of elements from a list (output: [20, 16, 43])\n",
    "print(l[0:3])\n",
    "\n",
    "# Replacing an element at a certain index in a list (output: [20, 16, 43, 13])\n",
    "l[3] = 13\n",
    "print(l)"
   ]
  },
  {
   "cell_type": "code",
   "execution_count": null,
   "id": "bd8d4be5",
   "metadata": {},
   "outputs": [],
   "source": [
    "l = [20, 16, 43, 12]\n",
    "\n",
    "# Adding an element to the end of a list (output: [20, 16, 43, 12, 'a'])\n",
    "l.append('a')\n",
    "print(l)\n",
    "\n",
    "# Adding an element to a certain index of a list (output: [20, 'b', 16, 43, 12, 'a'])\n",
    "l.insert(1, 'b')\n",
    "print(l)\n",
    "\n",
    "# Removing an element from the end of a list (output: [20, 'b', 16, 43, 12])\n",
    "l.pop()\n",
    "print(l)\n",
    "\n",
    "# Removing an element from a certain index of a list (output: [20, 16, 43, 12])\n",
    "l.pop(1)\n",
    "print(l)"
   ]
  },
  {
   "cell_type": "code",
   "execution_count": null,
   "id": "a9963467",
   "metadata": {
    "scrolled": false
   },
   "outputs": [],
   "source": [
    "l = [20, 16, -5, 43, 12, -5]\n",
    "\n",
    "# Removing the first element with a specified value from a list (output: [20, 16, 43, 12, -5])\n",
    "l.remove(-5)\n",
    "print(l)\n",
    "\n",
    "# Sorting a list ascending (output: [-5, 12, 16, 20, 43])\n",
    "l.sort()\n",
    "print(l)\n",
    "\n",
    "# Sorting a list descending (output: [43, 20, 16, 12, -5])\n",
    "l.sort(reverse=True)\n",
    "print(l)"
   ]
  },
  {
   "cell_type": "code",
   "execution_count": null,
   "id": "e7e03487",
   "metadata": {},
   "outputs": [],
   "source": [
    "# Creating a tuple (like a list, but immutable)\n",
    "t = (20, 16, 43, 12)\n",
    "print(t)"
   ]
  },
  {
   "cell_type": "code",
   "execution_count": null,
   "id": "af6e39ce",
   "metadata": {},
   "outputs": [],
   "source": [
    "t = (20, 16, 43, 12)\n",
    "\n",
    "# Getting the length of a tuple (output: 4)\n",
    "print(len(t))\n",
    "\n",
    "# Checking if an item is in a tuple (output: True)\n",
    "print(16 in t)"
   ]
  },
  {
   "cell_type": "code",
   "execution_count": null,
   "id": "ffde4f52",
   "metadata": {},
   "outputs": [],
   "source": [
    "t = (20, 16, 43, 12)\n",
    "\n",
    "# Indexing a single element of a tuple (output: 43 20)\n",
    "print(t[2], t[0])\n",
    "\n",
    "# Indexing a range of elements from a tuple (output: (20, 16, 43)\n",
    "print(t[0:3])"
   ]
  },
  {
   "cell_type": "code",
   "execution_count": null,
   "id": "ea7d24a1",
   "metadata": {},
   "outputs": [],
   "source": [
    "t = (20, 16, 43, 12)\n",
    "\n",
    "# You cannot replace (or add or remove) elements in a tuple (TypeError)\n",
    "t[3] = 13\n",
    "print(t)"
   ]
  },
  {
   "cell_type": "code",
   "execution_count": null,
   "id": "31bdba61",
   "metadata": {},
   "outputs": [],
   "source": [
    "# Creating a dictionary (maps keys to values)\n",
    "d = {'A': 1, 'B': 2, 'C': 3}\n",
    "print(d)"
   ]
  },
  {
   "cell_type": "code",
   "execution_count": null,
   "id": "d1e62c66",
   "metadata": {},
   "outputs": [],
   "source": [
    "# You can choose other types for keys and values\n",
    "d = {5: True, 'apple': 1.23, False: [4, 6, 8], (1, 2, 3): None}\n",
    "print(d)"
   ]
  },
  {
   "cell_type": "code",
   "execution_count": null,
   "id": "393aa845",
   "metadata": {},
   "outputs": [],
   "source": [
    "d = {'A': 1, 'B': 2, 'C': 3}\n",
    "\n",
    "# Getting the length of a dictionary (output: 3)\n",
    "print(len(d))\n",
    "\n",
    "# Checking if a key is in a dictionary (output: True)\n",
    "print('C' in d)"
   ]
  },
  {
   "cell_type": "code",
   "execution_count": null,
   "id": "63355935",
   "metadata": {},
   "outputs": [],
   "source": [
    "d = {'A': 1, 'B': 2, 'C': 3}\n",
    "\n",
    "# Getting the value of a specified key (output: 3)\n",
    "print(d['C'])\n",
    "\n",
    "# Adding a new key with a specified value (output: {'A': 1, 'B': 2, 'C': 3, 'D': 4})\n",
    "d['D'] = 4\n",
    "print(d)\n",
    "\n",
    "# Replacing the value of an existing key (output: {'A': 5, 'B': 2, 'C': 3, 'D': 4})\n",
    "d['A'] = 5\n",
    "print(d)\n",
    "\n",
    "# Removing a key from a dictionary (output: {'B': 2, 'C': 3, 'D': 4})\n",
    "d.pop('A')\n",
    "print(d)"
   ]
  },
  {
   "cell_type": "markdown",
   "id": "c2cbd193",
   "metadata": {},
   "source": [
    "### 1.2."
   ]
  },
  {
   "cell_type": "markdown",
   "id": "8f02a326",
   "metadata": {},
   "source": [
    "#### 1.2.A."
   ]
  },
  {
   "cell_type": "code",
   "execution_count": null,
   "id": "e2de6ad5",
   "metadata": {},
   "outputs": [],
   "source": [
    "# Go to https://numpy.org for more information on NumPy\n",
    "import numpy as np"
   ]
  },
  {
   "cell_type": "markdown",
   "id": "0cd4edcd",
   "metadata": {},
   "source": [
    "#### 1.2.B."
   ]
  },
  {
   "cell_type": "code",
   "execution_count": null,
   "id": "cdef6d43",
   "metadata": {},
   "outputs": [],
   "source": [
    "# Creating a NumPy array\n",
    "a = np.array([20, 16, 43, 12])\n",
    "print(a)"
   ]
  },
  {
   "cell_type": "code",
   "execution_count": null,
   "id": "51997613",
   "metadata": {},
   "outputs": [],
   "source": [
    "a = np.array([20, 16, 43, 12])\n",
    "\n",
    "# Getting the number of elements in an array (output: 4)\n",
    "print(a.size)\n",
    "\n",
    "# Getting the dimensions of an array (output: (4,))\n",
    "print(a.shape)\n",
    "\n",
    "# Getting the data type of an array's elements (output: int64)\n",
    "print(a.dtype)"
   ]
  },
  {
   "cell_type": "code",
   "execution_count": null,
   "id": "a676eb2c",
   "metadata": {},
   "outputs": [],
   "source": [
    "a = np.array([20, 16, 43, 12])\n",
    "\n",
    "# Indexing a single element of an array (output: 43 20)\n",
    "print(a[2], a[0])\n",
    "\n",
    "# Indexing a range of elements from an array (output: [20 16 43])\n",
    "print(a[0:3])\n",
    "\n",
    "# Replacing an element at a certain index in an array (output: [20 16 43 13])\n",
    "a[3] = 13\n",
    "print(a)"
   ]
  },
  {
   "cell_type": "code",
   "execution_count": null,
   "id": "1b23e235",
   "metadata": {},
   "outputs": [],
   "source": [
    "# Creating a two-dimensional NumPy array\n",
    "a = np.array([[1, 2, 3, 4], [5, 6, 7, 8], [9, 10, 11, 12]])\n",
    "print(a)"
   ]
  },
  {
   "cell_type": "code",
   "execution_count": null,
   "id": "eef010a1",
   "metadata": {},
   "outputs": [],
   "source": [
    "a = np.array([[1, 2, 3, 4], [5, 6, 7, 8], [9, 10, 11, 12]])\n",
    "\n",
    "# Getting the number of elements in an array (output: 12)\n",
    "print(a.size)\n",
    "\n",
    "# Getting the dimensions of an array (output: (3, 4))\n",
    "print(a.shape)"
   ]
  },
  {
   "cell_type": "markdown",
   "id": "8d8aad8d",
   "metadata": {},
   "source": [
    "#### 1.2.C."
   ]
  },
  {
   "cell_type": "code",
   "execution_count": null,
   "id": "951430f7",
   "metadata": {},
   "outputs": [],
   "source": [
    "# Random sampling from a one-dimensional array\n",
    "np.random.choice([20, 16, 43, 12])"
   ]
  },
  {
   "cell_type": "markdown",
   "id": "162f728d",
   "metadata": {},
   "source": [
    "### 1.3."
   ]
  },
  {
   "cell_type": "code",
   "execution_count": null,
   "id": "38fa050a",
   "metadata": {},
   "outputs": [],
   "source": [
    "# For loop using a range\n",
    "for i in range(10):\n",
    "    print(i)"
   ]
  },
  {
   "cell_type": "code",
   "execution_count": null,
   "id": "f7297add",
   "metadata": {
    "scrolled": true
   },
   "outputs": [],
   "source": [
    "# Ranges are commonly used in for loops (output: range(0, 10))\n",
    "print(range(10))\n",
    "\n",
    "# You can convert a range into a list (output: [0, 1, 2, 3, 4, 5, 6, 7, 8, 9])\n",
    "print(list(range(10)))\n",
    "\n",
    "# You can specifiy the start of a range (output: [1, 2, 3, 4, 5, 6, 7, 8, 9])\n",
    "print(list(range(1, 10)))"
   ]
  },
  {
   "cell_type": "code",
   "execution_count": null,
   "id": "74d27bc5",
   "metadata": {
    "scrolled": true
   },
   "outputs": [],
   "source": [
    "# For loop using a list\n",
    "l = [20, 16, 43, 12]\n",
    "for element in l:\n",
    "    print(element)"
   ]
  },
  {
   "cell_type": "code",
   "execution_count": null,
   "id": "5d7b9123",
   "metadata": {
    "scrolled": false
   },
   "outputs": [],
   "source": [
    "# You can use the enumerate function to get both indices and elements of a list in a for loop\n",
    "l = [20, 16, 43, 12]\n",
    "for i, element in enumerate(l):\n",
    "    print(i, element)"
   ]
  },
  {
   "cell_type": "code",
   "execution_count": null,
   "id": "84da7bca",
   "metadata": {},
   "outputs": [],
   "source": [
    "# Use a range with the length of a list to iterate through its indices\n",
    "l = [20, 16, 43, 12]\n",
    "for i in range(len(l)):\n",
    "    print(i)"
   ]
  },
  {
   "cell_type": "code",
   "execution_count": null,
   "id": "48ec19ec",
   "metadata": {},
   "outputs": [],
   "source": [
    "# For loop using a dictionary\n",
    "d = {'A': 1, 'B': 2, 'C': 3}\n",
    "for key in d:\n",
    "    print(key, d[key])"
   ]
  },
  {
   "cell_type": "markdown",
   "id": "0d81d9fa",
   "metadata": {},
   "source": [
    "#### 1.3.A."
   ]
  },
  {
   "cell_type": "code",
   "execution_count": null,
   "id": "3634ab5e",
   "metadata": {},
   "outputs": [],
   "source": [
    "# In Jupyter Notebook, the last line of a code cell is usually printed by default\n",
    "l = list(range(10))\n",
    "l"
   ]
  },
  {
   "cell_type": "markdown",
   "id": "80c55e37",
   "metadata": {},
   "source": [
    "#### 1.3.B."
   ]
  },
  {
   "cell_type": "code",
   "execution_count": null,
   "id": "cbf94480",
   "metadata": {},
   "outputs": [],
   "source": [
    "# However, if the last line is within a for loop, it will not be printed\n",
    "for i in range(10):\n",
    "    i"
   ]
  },
  {
   "cell_type": "code",
   "execution_count": null,
   "id": "872c0969",
   "metadata": {},
   "outputs": [],
   "source": [
    "# Within a for loop, you need to print manually\n",
    "for i in range(10):\n",
    "    print(i)"
   ]
  },
  {
   "cell_type": "markdown",
   "id": "a3c38de1",
   "metadata": {},
   "source": [
    "### 1.4."
   ]
  },
  {
   "cell_type": "code",
   "execution_count": null,
   "id": "7c65cf9c",
   "metadata": {},
   "outputs": [],
   "source": [
    "# If statements\n",
    "a = np.random.choice([20, 16, 43, 12])\n",
    "print(a)\n",
    "if a < 20:\n",
    "    print(True)\n",
    "else:\n",
    "    print(False)"
   ]
  },
  {
   "cell_type": "code",
   "execution_count": null,
   "id": "4496e020",
   "metadata": {},
   "outputs": [],
   "source": [
    "# If statements with elif\n",
    "a = np.random.choice([20, 16, 43, 12])\n",
    "print(a)\n",
    "if a == 12:\n",
    "    print(\"a is equal to 12\")\n",
    "elif a < 20:\n",
    "    print(\"a is not equal to 12 but is less than 20\")\n",
    "else:\n",
    "    print(\"a is greater than or equal to 20\")"
   ]
  },
  {
   "cell_type": "markdown",
   "id": "f73a4c20",
   "metadata": {},
   "source": [
    "#### 1.4.A."
   ]
  },
  {
   "cell_type": "code",
   "execution_count": null,
   "id": "27d144df",
   "metadata": {},
   "outputs": [],
   "source": [
    "# If statements in for loops\n",
    "for element in [20, 16, 43, 12]:\n",
    "    if element % 2 == 0:\n",
    "        print(\"even\")\n",
    "    else:\n",
    "        print(\"odd\")"
   ]
  },
  {
   "cell_type": "code",
   "execution_count": null,
   "id": "19864948",
   "metadata": {},
   "outputs": [],
   "source": [
    "# Fizz Buzz\n",
    "for i in range(1, 16):\n",
    "    if i % 3 == 0 and i % 5 == 0:\n",
    "        print(\"FizzBuzz\")\n",
    "    elif i % 3 == 0:\n",
    "        print(\"Fizz\")\n",
    "    elif i % 5 == 0:\n",
    "        print(\"Buzz\")\n",
    "    else:\n",
    "        print(i)"
   ]
  },
  {
   "cell_type": "markdown",
   "id": "ea87b1e5",
   "metadata": {},
   "source": [
    "#### 1.4.B."
   ]
  },
  {
   "cell_type": "code",
   "execution_count": null,
   "id": "d1e80f2b",
   "metadata": {
    "scrolled": true
   },
   "outputs": [],
   "source": [
    "# This code produces an error when run\n",
    "0 / 0"
   ]
  },
  {
   "cell_type": "code",
   "execution_count": null,
   "id": "e6a9ba9e",
   "metadata": {},
   "outputs": [],
   "source": [
    "# Try and except statements allow you to catch and handle errors\n",
    "try:\n",
    "    0 / 0\n",
    "except:\n",
    "    print(\"An error occurred.\")"
   ]
  },
  {
   "cell_type": "markdown",
   "id": "784aec03",
   "metadata": {},
   "source": [
    "## 3."
   ]
  },
  {
   "cell_type": "code",
   "execution_count": null,
   "id": "66f84d2b",
   "metadata": {},
   "outputs": [],
   "source": [
    "import numpy as np\n",
    "\n",
    "# Number of repetitions of the Monty Hall simulation\n",
    "n_reps = 10000\n",
    "\n",
    "# Track the number of wins\n",
    "n_wins = 0\n",
    "\n",
    "# Door choices\n",
    "doors = [1, 2, 3]\n",
    "\n",
    "# Run the following simulation n_reps times\n",
    "for i in range(n_reps):\n",
    "    \n",
    "    # Randomly select a winning door\n",
    "    winning_door = np.random.choice(doors)\n",
    "    \n",
    "    # Randomly choose a door\n",
    "    chosen_door = np.random.choice(doors)\n",
    "    \n",
    "    # Doors that we might select in the end\n",
    "    remaining_doors = [1, 2, 3]\n",
    "    \n",
    "    # Since we are switching, we will not be selecting the door chosen initially\n",
    "    remaining_doors.remove(chosen_door)\n",
    "    \n",
    "    # A list that will contain the doors able to be revealed\n",
    "    possible_revealed_doors = []\n",
    "    \n",
    "    # Determine whether each door is able to be revealed\n",
    "    for door in doors:\n",
    "        \n",
    "        # A revealed door cannot be the winning door or the door we chose initially\n",
    "        if door != winning_door and door != chosen_door:\n",
    "            possible_revealed_doors.append(door)\n",
    "    \n",
    "    # Randomly select a door to reveal as not containing the prize\n",
    "    revealed_door = np.random.choice(possible_revealed_doors)\n",
    "    \n",
    "    # We will not be selecting the revealed door in the end\n",
    "    remaining_doors.remove(revealed_door)\n",
    "    \n",
    "    # There should only be one door left, which we select since we are switching\n",
    "    selected_door = remaining_doors[0]\n",
    "    \n",
    "    # Update the number of wins if the winning door was chosen\n",
    "    if selected_door == winning_door:\n",
    "        n_wins = n_wins + 1\n",
    "\n",
    "# Calculate the proportion of times won\n",
    "n_wins / n_reps"
   ]
  }
 ],
 "metadata": {
  "kernelspec": {
   "display_name": "Python 3 (ipykernel)",
   "language": "python",
   "name": "python3"
  },
  "language_info": {
   "codemirror_mode": {
    "name": "ipython",
    "version": 3
   },
   "file_extension": ".py",
   "mimetype": "text/x-python",
   "name": "python",
   "nbconvert_exporter": "python",
   "pygments_lexer": "ipython3",
   "version": "3.11.6"
  }
 },
 "nbformat": 4,
 "nbformat_minor": 5
}
