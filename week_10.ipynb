{
 "cells": [
  {
   "cell_type": "markdown",
   "id": "91d13fb9",
   "metadata": {},
   "source": [
    "# Demo"
   ]
  },
  {
   "cell_type": "code",
   "execution_count": null,
   "id": "402b9a3a",
   "metadata": {},
   "outputs": [],
   "source": [
    "# Import statements\n",
    "import numpy as np\n",
    "import pandas as pd\n",
    "import plotly.graph_objects as go\n",
    "import statsmodels.formula.api as smf"
   ]
  },
  {
   "cell_type": "code",
   "execution_count": null,
   "id": "5e847e99",
   "metadata": {
    "scrolled": false
   },
   "outputs": [],
   "source": [
    "# Data from Canadian Social Connection Survey\n",
    "data = pd.read_csv(\"https://raw.githubusercontent.com/pointOfive/stat130chat130/main/CP/CSCS_data_anon.csv\")\n",
    "var = pd.read_csv(\"https://raw.githubusercontent.com/pointOfive/stat130chat130/main/CP/var_names.csv\")"
   ]
  },
  {
   "cell_type": "code",
   "execution_count": null,
   "id": "425e2fbd",
   "metadata": {
    "scrolled": true
   },
   "outputs": [],
   "source": [
    "# Explanation of 'CONNECTION_social_num_close_friends' (numerical outcome)\n",
    "pd.unique(var.loc[var['new_var'] == 'CONNECTION_social_num_close_friends', 'text'])"
   ]
  },
  {
   "cell_type": "code",
   "execution_count": null,
   "id": "e7f46fe8",
   "metadata": {
    "scrolled": false
   },
   "outputs": [],
   "source": [
    "# Explanation of 'COVID_prevention_distancing' (categorical predictor)\n",
    "pd.unique(var.loc[var['new_var'] == 'COVID_prevention_distancing', 'text'])"
   ]
  },
  {
   "cell_type": "code",
   "execution_count": null,
   "id": "ade42684",
   "metadata": {},
   "outputs": [],
   "source": [
    "# Explanation of 'DEMO_student' (categorical predictor)\n",
    "pd.unique(var.loc[var['new_var'] == 'DEMO_student', 'text'])"
   ]
  },
  {
   "cell_type": "code",
   "execution_count": null,
   "id": "e63afc03",
   "metadata": {},
   "outputs": [],
   "source": [
    "# Explanation of 'WORK_hours_per_week' (numerica predictor)\n",
    "pd.unique(var.loc[var['new_var'] == 'WORK_hours_per_week', 'text'])"
   ]
  },
  {
   "cell_type": "code",
   "execution_count": null,
   "id": "5ec5acf5",
   "metadata": {},
   "outputs": [],
   "source": [
    "# Explanation of 'CONNECTION_preference_time_strangers' (numerical predictor)\n",
    "pd.unique(var.loc[var['new_var'] == 'CONNECTION_preference_time_strangers', 'text'])"
   ]
  },
  {
   "cell_type": "markdown",
   "id": "aab2b253",
   "metadata": {},
   "source": [
    "## 1."
   ]
  },
  {
   "cell_type": "markdown",
   "id": "7e56cd67",
   "metadata": {},
   "source": [
    "| Variable | Column Label in `data`                  | Meaning(s) from `var`                                                                                                                             |\n",
    "| -------- | --------------------------------------- | ------------------------------------------------------------------------------------------------------------------------------------------------- |\n",
    "| $Y_i$    | `'CONNECTION_social_num_close_friends'` | How many close friends do you have?                                                                                                               |\n",
    "| $x_i$    | `'COVID_prevention_distancing'`         | To what extent are you currently following the COVID-19 prevention practices listed below? - Physically distance yourself by 2 metres from others |"
   ]
  },
  {
   "cell_type": "code",
   "execution_count": null,
   "id": "01600bbe",
   "metadata": {},
   "outputs": [],
   "source": [
    "# Data preparation\n",
    "data_1 = data[['CONNECTION_social_num_close_friends', 'COVID_prevention_distancing']].dropna()\n",
    "data_1 = data_1[data_1['COVID_prevention_distancing'] != 'Presented but no response']"
   ]
  },
  {
   "cell_type": "code",
   "execution_count": null,
   "id": "19a8a7dd",
   "metadata": {},
   "outputs": [],
   "source": [
    "# Summary statistics of 'CONNECTION_social_num_close_friends' (numerical outcome)\n",
    "data_1['CONNECTION_social_num_close_friends'].describe()"
   ]
  },
  {
   "cell_type": "code",
   "execution_count": null,
   "id": "437c5114",
   "metadata": {
    "scrolled": true
   },
   "outputs": [],
   "source": [
    "# Value counts of 'COVID_prevention_distancing' (categorical predictor)\n",
    "data_1['COVID_prevention_distancing'].value_counts()"
   ]
  },
  {
   "cell_type": "code",
   "execution_count": null,
   "id": "4be8f64e",
   "metadata": {
    "scrolled": true
   },
   "outputs": [],
   "source": [
    "# Model fitting and summary\n",
    "fitted_model_1 = smf.ols('CONNECTION_social_num_close_friends ~ COVID_prevention_distancing', data_1).fit()\n",
    "fitted_model_1.summary().tables[1]"
   ]
  },
  {
   "cell_type": "markdown",
   "id": "c8d0fb71",
   "metadata": {},
   "source": [
    "$$\\hat{y}_i = 4.2317 + 0.0314 \\times 1_{\\left[ x_i = \\text{\"Somewhat closely\"} \\right]}(x_i) + 0.4807 \\times 1_{\\left[ x_i = \\text{\"Very closely\"} \\right]}(x_i)$$"
   ]
  },
  {
   "cell_type": "code",
   "execution_count": null,
   "id": "03137856",
   "metadata": {},
   "outputs": [],
   "source": [
    "# Predictor and predicted values\n",
    "x_i = ['Not at all', 'Somewhat closely', 'Very closely']\n",
    "y_hat_i = [\n",
    "    fitted_model_1.params['Intercept'],\n",
    "    fitted_model_1.params['Intercept'] + fitted_model_1.params['COVID_prevention_distancing[T.Somewhat closely]'],\n",
    "    fitted_model_1.params['Intercept'] + fitted_model_1.params['COVID_prevention_distancing[T.Very closely]']\n",
    "]\n",
    "\n",
    "# Plot the fitted model\n",
    "fig = go.Figure()\n",
    "fig.add_trace(go.Scatter(x=x_i, y=y_hat_i, mode='markers'))\n",
    "fig.update_layout(\n",
    "    title=\"Fitted Model 1\",\n",
    "    xaxis_title=\"COVID_prevention_distancing\",\n",
    "    yaxis_title=\"CONNECTION_social_num_close_friends\"\n",
    ")\n",
    "fig.show()"
   ]
  },
  {
   "cell_type": "markdown",
   "id": "e36204a8",
   "metadata": {},
   "source": [
    "## 2."
   ]
  },
  {
   "cell_type": "markdown",
   "id": "368b5754",
   "metadata": {},
   "source": [
    "| Variable | Column Label in `data`                  | Meaning(s) from `var`                                                                                                 |\n",
    "| -------- | --------------------------------------- | --------------------------------------------------------------------------------------------------------------------- |\n",
    "| $Y_i$    | `'CONNECTION_social_num_close_friends'` | How many close friends do you have?                                                                                   |\n",
    "| $x_i$    | `'DEMO_student'`                        | Are you currently a student?                                                                                          |\n",
    "|          |                                         | Are you currently... (Check all that apply) - A student                                                               |\n",
    "| $z_i$    | `'WORK_hours_per_week'`                 | During the COVID-19 pandemic, how many hours have you typically spent working for pay or in self-employment per week? |\n",
    "|          |                                         | On average, how many hours per week do you work?                                                                      |"
   ]
  },
  {
   "cell_type": "code",
   "execution_count": null,
   "id": "3fce20bf",
   "metadata": {},
   "outputs": [],
   "source": [
    "# Data preparation\n",
    "data_2 = data[['CONNECTION_social_num_close_friends', 'DEMO_student', 'WORK_hours_per_week']].dropna()\n",
    "data_2 = data_2[data_2['DEMO_student'] != 'Presented but no response']"
   ]
  },
  {
   "cell_type": "code",
   "execution_count": null,
   "id": "fc011653",
   "metadata": {
    "scrolled": true
   },
   "outputs": [],
   "source": [
    "# Summary statistics of 'CONNECTION_social_num_close_friends' (numerical outcome)\n",
    "data_2['CONNECTION_social_num_close_friends'].describe()"
   ]
  },
  {
   "cell_type": "code",
   "execution_count": null,
   "id": "709c63c4",
   "metadata": {},
   "outputs": [],
   "source": [
    "# Value counts of 'DEMO_student' (categorical predictor)\n",
    "data_2['DEMO_student'].value_counts()"
   ]
  },
  {
   "cell_type": "code",
   "execution_count": null,
   "id": "f1923c2f",
   "metadata": {},
   "outputs": [],
   "source": [
    "# Summary statistics of 'WORK_hours_per_week' (numerical predictor)\n",
    "data_2['WORK_hours_per_week'].describe()"
   ]
  },
  {
   "cell_type": "code",
   "execution_count": null,
   "id": "977b6cce",
   "metadata": {},
   "outputs": [],
   "source": [
    "# Model fitting and summary\n",
    "fitted_model_2 = smf.ols('CONNECTION_social_num_close_friends ~ DEMO_student + WORK_hours_per_week', data_2).fit()\n",
    "fitted_model_2.summary().tables[1]"
   ]
  },
  {
   "cell_type": "markdown",
   "id": "e3db7c88",
   "metadata": {},
   "source": [
    "$$\\hat{y}_i = 3.8358 + 0.6840 \\times 1_{\\left[ x_i = \\text{\"Yes\"} \\right]}(x_i) + 0.0144 \\times z_i$$"
   ]
  },
  {
   "cell_type": "code",
   "execution_count": null,
   "id": "a69109a4",
   "metadata": {},
   "outputs": [],
   "source": [
    "# Predictor and predicted values\n",
    "z_i_range = np.array([data_2['WORK_hours_per_week'].min(), data_2['WORK_hours_per_week'].max()])\n",
    "y_hat_i_range_for_x_i_No = fitted_model_2.params['Intercept'] + fitted_model_2.params['WORK_hours_per_week'] * z_i_range\n",
    "y_hat_i_range_for_x_i_Yes = fitted_model_2.params['Intercept'] + fitted_model_2.params['DEMO_student[T.Yes]'] + fitted_model_2.params['WORK_hours_per_week'] * z_i_range\n",
    "\n",
    "# Plot the fitted model\n",
    "fig = go.Figure()\n",
    "fig.add_trace(go.Scatter(x=z_i_range, y=y_hat_i_range_for_x_i_No, mode='lines', name='DEMO_student = No'))\n",
    "fig.add_trace(go.Scatter(x=z_i_range, y=y_hat_i_range_for_x_i_Yes, mode='lines', name='DEMO_student = Yes'))\n",
    "fig.update_layout(\n",
    "    title=\"Fitted Model 2\",\n",
    "    xaxis_title=\"WORK_hours_per_week\",\n",
    "    yaxis_title=\"CONNECTION_social_num_close_friends\"\n",
    ")\n",
    "fig.show()"
   ]
  },
  {
   "cell_type": "markdown",
   "id": "4e588229",
   "metadata": {},
   "source": [
    "## 3."
   ]
  },
  {
   "cell_type": "markdown",
   "id": "18e6c021",
   "metadata": {},
   "source": [
    "| Variable   | Column Label in `data`                   | Meaning(s) from `var`                                                                                                 |\n",
    "| ---------- | ---------------------------------------- | --------------------------------------------------------------------------------------------------------------------- |\n",
    "| $Y_i$      | `'CONNECTION_social_num_close_friends'`  | How many close friends do you have?                                                                                   |\n",
    "| $z_{1i}$   | `'WORK_hours_per_week'`                  | During the COVID-19 pandemic, how many hours have you typically spent working for pay or in self-employment per week? |\n",
    "|            |                                          | On average, how many hours per week do you work?                                                                      |\n",
    "| $z_{2i}$   | `'CONNECTION_preference_time_strangers'` | Ideally, how many hours per week would you like to spend socializing with each of the following groups? - Strangers   |"
   ]
  },
  {
   "cell_type": "code",
   "execution_count": null,
   "id": "10c06354",
   "metadata": {},
   "outputs": [],
   "source": [
    "# Data preparation\n",
    "data_3 = data[['CONNECTION_social_num_close_friends', 'WORK_hours_per_week', 'CONNECTION_preference_time_strangers']].dropna()"
   ]
  },
  {
   "cell_type": "code",
   "execution_count": null,
   "id": "a03831ca",
   "metadata": {},
   "outputs": [],
   "source": [
    "# Summary statistics of 'CONNECTION_social_num_close_friends' (numerical outcome)\n",
    "data_3['CONNECTION_social_num_close_friends'].describe()"
   ]
  },
  {
   "cell_type": "code",
   "execution_count": null,
   "id": "ef377fad",
   "metadata": {},
   "outputs": [],
   "source": [
    "# Summary statistics of 'WORK_hours_per_week' (numerical predictor)\n",
    "data_3['WORK_hours_per_week'].describe()"
   ]
  },
  {
   "cell_type": "code",
   "execution_count": null,
   "id": "b692ab1a",
   "metadata": {},
   "outputs": [],
   "source": [
    "# Summary statistics of 'CONNECTION_preference_time_strangers' (numerical predictor)\n",
    "data_3['CONNECTION_preference_time_strangers'].describe()"
   ]
  },
  {
   "cell_type": "code",
   "execution_count": null,
   "id": "a66e58d8",
   "metadata": {},
   "outputs": [],
   "source": [
    "# Model fitting and summary\n",
    "fitted_model_3 = smf.ols('CONNECTION_social_num_close_friends ~ WORK_hours_per_week + CONNECTION_preference_time_strangers', data_3).fit()\n",
    "fitted_model_3.summary().tables[1]"
   ]
  },
  {
   "cell_type": "markdown",
   "id": "982c160d",
   "metadata": {},
   "source": [
    "$$\\hat{y}_i = 4.9483 + 0.0029 \\times z_{1i} + 0.1023 \\times z_{2i}$$"
   ]
  },
  {
   "cell_type": "code",
   "execution_count": null,
   "id": "173466fe",
   "metadata": {},
   "outputs": [],
   "source": [
    "# Predictors and predicted values\n",
    "z_1i_range = np.array([[data_3['WORK_hours_per_week'].min(), data_3['WORK_hours_per_week'].min()],\n",
    "                       [data_3['WORK_hours_per_week'].max(), data_3['WORK_hours_per_week'].max()]])\n",
    "z_2i_range = np.array([[data_3['CONNECTION_preference_time_strangers'].min(), data_3['CONNECTION_preference_time_strangers'].max()],\n",
    "                       [data_3['CONNECTION_preference_time_strangers'].min(), data_3['CONNECTION_preference_time_strangers'].max()]])\n",
    "y_hat_i_range = fitted_model_3.params['Intercept'] + fitted_model_3.params['WORK_hours_per_week'] * z_1i_range + fitted_model_3.params['CONNECTION_preference_time_strangers'] * z_2i_range\n",
    "\n",
    "# Plot the fitted model\n",
    "fig = go.Figure()\n",
    "fig.add_trace(go.Surface(x=z_1i_range[:, 0], y=z_2i_range[0], z=y_hat_i_range))\n",
    "fig.update_layout(\n",
    "    title=\"Fitted Model 3\",\n",
    "    width=700,\n",
    "    height=700,\n",
    "    scene=dict(\n",
    "        xaxis_title=\"WORK_hours_per_week\",\n",
    "        yaxis_title=\"CONNECTION_preference_time_strangers\",\n",
    "        zaxis_title=\"CONNECTION_social_num_close_friends\"\n",
    "))\n",
    "fig.show()"
   ]
  },
  {
   "cell_type": "markdown",
   "id": "ac2ca322",
   "metadata": {},
   "source": [
    "## 4."
   ]
  },
  {
   "cell_type": "markdown",
   "id": "4feaf538",
   "metadata": {},
   "source": [
    "| Variable | Column Label in `data`                  | Meaning(s) from `var`                                                                                                 |\n",
    "| -------- | --------------------------------------- | --------------------------------------------------------------------------------------------------------------------- |\n",
    "| $Y_i$    | `'CONNECTION_social_num_close_friends'` | How many close friends do you have?                                                                                   |\n",
    "| $x_i$    | `'DEMO_student'`                        | Are you currently a student?                                                                                          |\n",
    "|          |                                         | Are you currently... (Check all that apply) - A student                                                               |\n",
    "| $z_i$    | `'WORK_hours_per_week'`                 | During the COVID-19 pandemic, how many hours have you typically spent working for pay or in self-employment per week? |\n",
    "|          |                                         | On average, how many hours per week do you work?                                                                      |"
   ]
  },
  {
   "cell_type": "code",
   "execution_count": null,
   "id": "e655fd45",
   "metadata": {},
   "outputs": [],
   "source": [
    "# Model fitting and summary\n",
    "fitted_model_4 = smf.ols('CONNECTION_social_num_close_friends ~ DEMO_student * WORK_hours_per_week', data_2).fit()\n",
    "fitted_model_4.summary().tables[1]"
   ]
  },
  {
   "cell_type": "markdown",
   "id": "20aabde8",
   "metadata": {},
   "source": [
    "$$\\hat{y}_i = 3.8467 + 0.0138 \\times z_i + 0.5713 \\times 1_{\\left[ x_i = \\text{\"Yes\"} \\right]}(x_i) + 0.0054 \\times z_i \\times 1_{\\left[ x_i = \\text{\"Yes\"} \\right]}(x_i)$$"
   ]
  },
  {
   "cell_type": "markdown",
   "id": "67844e8c",
   "metadata": {},
   "source": [
    "$$\\hat{y}_i = 3.8467 + 0.5713 \\times 1_{\\left[ x_i = \\text{\"Yes\"} \\right]}(x_i) + \\left( 0.0138 + 0.0054 \\times 1_{\\left[ x_i = \\text{\"Yes\"} \\right]}(x_i) \\right) \\times z_i$$"
   ]
  },
  {
   "cell_type": "code",
   "execution_count": null,
   "id": "34c45c59",
   "metadata": {},
   "outputs": [],
   "source": [
    "# Predictor and predicted values\n",
    "z_i_range = np.array([data_2['WORK_hours_per_week'].min(), data_2['WORK_hours_per_week'].max()])\n",
    "y_hat_i_range_for_x_i_No = fitted_model_4.params['Intercept'] + fitted_model_4.params['WORK_hours_per_week'] * z_i_range\n",
    "y_hat_i_range_for_x_i_Yes = fitted_model_4.params['Intercept'] + fitted_model_4.params['DEMO_student[T.Yes]'] + fitted_model_4.params['WORK_hours_per_week'] * z_i_range + fitted_model_4.params['DEMO_student[T.Yes]:WORK_hours_per_week'] * z_i_range\n",
    "\n",
    "# Plot the fitted model\n",
    "fig = go.Figure()\n",
    "fig.add_trace(go.Scatter(x=z_i_range, y=y_hat_i_range_for_x_i_No, mode='lines', name='DEMO_student = No'))\n",
    "fig.add_trace(go.Scatter(x=z_i_range, y=y_hat_i_range_for_x_i_Yes, mode='lines', name='DEMO_student = Yes'))\n",
    "fig.update_layout(\n",
    "    title=\"Fitted Model 4\",\n",
    "    xaxis_title=\"WORK_hours_per_week\",\n",
    "    yaxis_title=\"CONNECTION_social_num_close_friends\"\n",
    ")\n",
    "fig.show()"
   ]
  },
  {
   "cell_type": "markdown",
   "id": "81a43358",
   "metadata": {},
   "source": [
    "## 5."
   ]
  },
  {
   "cell_type": "markdown",
   "id": "26be18b6",
   "metadata": {},
   "source": [
    "| Variable   | Column Label in `data`                   | Meaning(s) from `var`                                                                                                 |\n",
    "| ---------- | ---------------------------------------- | --------------------------------------------------------------------------------------------------------------------- |\n",
    "| $Y_i$      | `'CONNECTION_social_num_close_friends'`  | How many close friends do you have?                                                                                   |\n",
    "| $z_{1i}$   | `'WORK_hours_per_week'`                  | During the COVID-19 pandemic, how many hours have you typically spent working for pay or in self-employment per week? |\n",
    "|            |                                          | On average, how many hours per week do you work?                                                                      |\n",
    "| $z_{2i}$   | `'CONNECTION_preference_time_strangers'` | Ideally, how many hours per week would you like to spend socializing with each of the following groups? - Strangers   |"
   ]
  },
  {
   "cell_type": "code",
   "execution_count": null,
   "id": "431b3cfc",
   "metadata": {},
   "outputs": [],
   "source": [
    "# Model fitting and summary\n",
    "fitted_model_5 = smf.ols('CONNECTION_social_num_close_friends ~ WORK_hours_per_week * CONNECTION_preference_time_strangers', data_3).fit()\n",
    "fitted_model_5.summary().tables[1]"
   ]
  },
  {
   "cell_type": "markdown",
   "id": "c2523939",
   "metadata": {},
   "source": [
    "$$\\hat{y}_i = 4.8628 + 0.0061 \\times z_{1i} + 0.1777 \\times z_{2i} - 0.0023 \\times z_{1i} \\times z_{2i}$$"
   ]
  },
  {
   "cell_type": "code",
   "execution_count": null,
   "id": "a7672ba2",
   "metadata": {},
   "outputs": [],
   "source": [
    "# Predictor and predicted values\n",
    "n_samples = 101\n",
    "x = np.linspace(data_3['WORK_hours_per_week'].min(), data_3['WORK_hours_per_week'].max(), n_samples)\n",
    "y = np.linspace(data_3['CONNECTION_preference_time_strangers'].min(), data_3['CONNECTION_preference_time_strangers'].max(), n_samples)\n",
    "z_1i, z_2i = np.meshgrid(x, y, indexing='ij')\n",
    "y_hat_i = fitted_model_5.params['Intercept'] + fitted_model_5.params['WORK_hours_per_week'] * z_1i + fitted_model_5.params['CONNECTION_preference_time_strangers'] * z_2i + fitted_model_5.params['WORK_hours_per_week:CONNECTION_preference_time_strangers'] * z_1i * z_2i\n",
    "\n",
    "# Plot the fitted model\n",
    "fig = go.Figure()\n",
    "fig.add_trace(go.Surface(x=z_1i[:, 0], y=z_2i[0], z=y_hat_i_range))\n",
    "fig.update_layout(\n",
    "    title=\"Fitted Model 5\",\n",
    "    width=700,\n",
    "    height=700,\n",
    "    scene=dict(\n",
    "        xaxis_title=\"WORK_hours_per_week\",\n",
    "        yaxis_title=\"CONNECTION_preference_time_strangers\",\n",
    "        zaxis_title=\"CONNECTION_social_num_close_friends\"\n",
    "))\n",
    "fig.show()"
   ]
  }
 ],
 "metadata": {
  "kernelspec": {
   "display_name": "Python 3 (ipykernel)",
   "language": "python",
   "name": "python3"
  },
  "language_info": {
   "codemirror_mode": {
    "name": "ipython",
    "version": 3
   },
   "file_extension": ".py",
   "mimetype": "text/x-python",
   "name": "python",
   "nbconvert_exporter": "python",
   "pygments_lexer": "ipython3",
   "version": "3.11.6"
  }
 },
 "nbformat": 4,
 "nbformat_minor": 5
}
